{
  "nbformat": 4,
  "nbformat_minor": 0,
  "metadata": {
    "colab": {
      "provenance": [],
      "authorship_tag": "ABX9TyMroNTzxWDb/EOzDrz6sjrp",
      "include_colab_link": true
    },
    "kernelspec": {
      "name": "python3",
      "display_name": "Python 3"
    },
    "language_info": {
      "name": "python"
    }
  },
  "cells": [
    {
      "cell_type": "markdown",
      "metadata": {
        "id": "view-in-github",
        "colab_type": "text"
      },
      "source": [
        "<a href=\"https://colab.research.google.com/github/srijita1406/Python/blob/main/Vectors_and_Matrices_in_python_using_Numpy.ipynb\" target=\"_parent\"><img src=\"https://colab.research.google.com/assets/colab-badge.svg\" alt=\"Open In Colab\"/></a>"
      ]
    },
    {
      "cell_type": "markdown",
      "source": [
        "Accept a positive integer nn as argument and print a NumPy array of zeros to the console"
      ],
      "metadata": {
        "id": "cu7XO4IdJ5rA"
      }
    },
    {
      "cell_type": "code",
      "source": [
        "import numpy as np"
      ],
      "metadata": {
        "id": "fMFPNWdBKQbl"
      },
      "execution_count": null,
      "outputs": []
    },
    {
      "cell_type": "code",
      "execution_count": null,
      "metadata": {
        "id": "GbMH3LHvP0R-",
        "colab": {
          "base_uri": "https://localhost:8080/"
        },
        "outputId": "14ccb4fc-7081-4c30-a348-01a881732349"
      },
      "outputs": [
        {
          "output_type": "stream",
          "name": "stdout",
          "text": [
            "6\n",
            "[0. 0. 0. 0. 0. 0.]\n"
          ]
        }
      ],
      "source": [
        "n=int(input())\n",
        "A=np.zeros((n,))\n",
        "print(A)"
      ]
    },
    {
      "cell_type": "markdown",
      "source": [
        "Write a function named mean that accepts a matrix (NumPy array) as argument and returns the mean of the columns, which should be a vector."
      ],
      "metadata": {
        "id": "iD0wg6x6KKar"
      }
    },
    {
      "cell_type": "code",
      "source": [
        "def mean(X):\n",
        "    \n",
        "    for i in range(len(X[0])):\n",
        "        mean_X=sum(X)/len(X)\n",
        "    return mean_X\n",
        "\n",
        "L=np.array([[2,3],[10,7],[21,62]])\n",
        "print(mean(L))"
      ],
      "metadata": {
        "id": "e_S_K6Y-KCHN",
        "colab": {
          "base_uri": "https://localhost:8080/"
        },
        "outputId": "6e7b22fd-cdbf-4c7c-ad14-dda2a881a633"
      },
      "execution_count": null,
      "outputs": [
        {
          "output_type": "stream",
          "name": "stdout",
          "text": [
            "[11. 24.]\n"
          ]
        }
      ]
    },
    {
      "cell_type": "markdown",
      "source": [
        "X is a m×n matrix and W is a n×p matrix. b is a p dimensional vector. Write a function named compute that accepts X, W and b as arguments and returns the value of the following expression:\n",
        "\n",
        "XW + b"
      ],
      "metadata": {
        "id": "3vYcSo_GDGWc"
      }
    },
    {
      "cell_type": "code",
      "source": [
        "import numpy as np\n",
        "def compute(X, W, b):\n",
        "    \"\"\"\n",
        "    Compute the value XW + b\n",
        "\n",
        "    Arguments:\n",
        "        X: np.ndarray, (m, n)\n",
        "        W: np.ndarray, (n, p)\n",
        "        b: np.ndarray, (p, )\n",
        "    \"\"\"\n",
        "    Z=X@W\n",
        "    Y=Z+b \n",
        "    return Y    "
      ],
      "metadata": {
        "id": "klfWGFufDH31"
      },
      "execution_count": null,
      "outputs": []
    },
    {
      "cell_type": "markdown",
      "source": [
        "Write a function named predict that accepts two vectorsw and x as arguments. It should return the value 11 if \n",
        "w^Tx≥0 and −1 if w^Tx<0. This value is called the label."
      ],
      "metadata": {
        "id": "72pwIeUoE-Wn"
      }
    },
    {
      "cell_type": "code",
      "source": [
        "import numpy as np\n",
        "def predict(w, x):\n",
        "    a=np.transpose(w)\n",
        "    b=w@x\n",
        "    \n",
        "    if(b>=0):\n",
        "        return 1\n",
        "    else:\n",
        "        return -1\n",
        "       \n",
        "        \n",
        "    \n",
        "    \"\"\"\n",
        "    Predict the label\n",
        "\n",
        "    Arguments:\n",
        "        w: weight vector\n",
        "        x: data-point\n",
        "    Return:\n",
        "        y: predicted label\n",
        "    \"\"\""
      ],
      "metadata": {
        "id": "Yty_SvgGE94e"
      },
      "execution_count": null,
      "outputs": []
    }
  ]
}