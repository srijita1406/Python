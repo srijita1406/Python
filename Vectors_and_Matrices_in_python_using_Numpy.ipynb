{
  "nbformat": 4,
  "nbformat_minor": 0,
  "metadata": {
    "colab": {
      "provenance": [],
      "authorship_tag": "ABX9TyPkqqO4xp8IjfBl+1T9YQmB",
      "include_colab_link": true
    },
    "kernelspec": {
      "name": "python3",
      "display_name": "Python 3"
    },
    "language_info": {
      "name": "python"
    }
  },
  "cells": [
    {
      "cell_type": "markdown",
      "metadata": {
        "id": "view-in-github",
        "colab_type": "text"
      },
      "source": [
        "<a href=\"https://colab.research.google.com/github/srijita1406/Python/blob/main/Vectors_and_Matrices_in_python_using_Numpy.ipynb\" target=\"_parent\"><img src=\"https://colab.research.google.com/assets/colab-badge.svg\" alt=\"Open In Colab\"/></a>"
      ]
    },
    {
      "cell_type": "markdown",
      "source": [
        "Accept a positive integer nn as argument and print a NumPy array of zeros to the console"
      ],
      "metadata": {
        "id": "cu7XO4IdJ5rA"
      }
    },
    {
      "cell_type": "code",
      "source": [
        "import numpy as np"
      ],
      "metadata": {
        "id": "fMFPNWdBKQbl"
      },
      "execution_count": null,
      "outputs": []
    },
    {
      "cell_type": "code",
      "execution_count": 5,
      "metadata": {
        "id": "GbMH3LHvP0R-",
        "colab": {
          "base_uri": "https://localhost:8080/"
        },
        "outputId": "14ccb4fc-7081-4c30-a348-01a881732349"
      },
      "outputs": [
        {
          "output_type": "stream",
          "name": "stdout",
          "text": [
            "6\n",
            "[0. 0. 0. 0. 0. 0.]\n"
          ]
        }
      ],
      "source": [
        "n=int(input())\n",
        "A=np.zeros((n,))\n",
        "print(A)"
      ]
    },
    {
      "cell_type": "markdown",
      "source": [
        "Write a function named mean that accepts a matrix (NumPy array) as argument and returns the mean of the columns, which should be a vector."
      ],
      "metadata": {
        "id": "iD0wg6x6KKar"
      }
    },
    {
      "cell_type": "code",
      "source": [],
      "metadata": {
        "id": "e_S_K6Y-KCHN"
      },
      "execution_count": null,
      "outputs": []
    }
  ]
}